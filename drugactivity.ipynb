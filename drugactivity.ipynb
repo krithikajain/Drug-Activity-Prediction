{
  "cells": [
    {
      "cell_type": "code",
      "execution_count": 47,
      "metadata": {
        "id": "Rv-CoCb4zpgm"
      },
      "outputs": [],
      "source": [
        "import pandas as pd\n",
        "import numpy as np\n",
        "from sklearn.tree import DecisionTreeClassifier\n",
        "from sklearn.feature_extraction.text import CountVectorizer\n",
        "from sklearn.feature_selection import SelectKBest, chi2\n",
        "from sklearn.model_selection import train_test_split\n",
        "from sklearn.metrics import f1_score\n",
        "from collections import Counter\n",
        "import matplotlib.pyplot as plt\n",
        "from imblearn.over_sampling import RandomOverSampler\n"
      ]
    },
    {
      "cell_type": "code",
      "source": [
        "# function to read training and testing datasets and represent them in binary vectors\n",
        "\n",
        "def vectorize_text(train_file, test_file):\n",
        "    train_data = pd.read_table(train_file, names=['Activity', 'Features'])    # Read training data into activity and features\n",
        "    features = train_data.iloc[:, 1]\n",
        "    labels = train_data['Activity']\n",
        "    test_data = pd.read_table(test_file, names=['Features'])    # Read test data\n",
        "\n",
        "    # Creating and fitting the CountVectorizer for training data\n",
        "    count_vectorizer = CountVectorizer(binary=True, tokenizer=lambda x: x.split())\n",
        "    binary_features = count_vectorizer.fit_transform(train_data['Features']).toarray()\n",
        "\n",
        "    # Transforming the test data\n",
        "    test_binary_features = count_vectorizer.transform(test_data['Features']).toarray()\n",
        "\n",
        "    return binary_features, labels, test_binary_features\n",
        "\n",
        "train_file = 'train.txt'\n",
        "test_file = 'test.txt'\n",
        "train_features, train_labels, test_features = vectorize_text(train_file, test_file)\n"
      ],
      "metadata": {
        "colab": {
          "base_uri": "https://localhost:8080/"
        },
        "id": "_eMa-WwYXY2S",
        "outputId": "ddac808e-e854-4241-8507-90f92ab96b14"
      },
      "execution_count": 48,
      "outputs": [
        {
          "output_type": "stream",
          "name": "stderr",
          "text": [
            "/usr/local/lib/python3.10/dist-packages/sklearn/feature_extraction/text.py:528: UserWarning: The parameter 'token_pattern' will not be used since 'tokenizer' is not None'\n",
            "  warnings.warn(\n"
          ]
        }
      ]
    },
    {
      "cell_type": "code",
      "execution_count": null,
      "metadata": {
        "colab": {
          "base_uri": "https://localhost:8080/"
        },
        "outputId": "005c403a-630e-453c-fc5d-328d6a6e6e6f",
        "id": "N8A67sr3zNFG"
      },
      "outputs": [
        {
          "output_type": "stream",
          "name": "stdout",
          "text": [
            "     Activity                                           Features\n",
            "0           0  96 183 367 379 387 1041 1117 1176 1327 1546 18...\n",
            "1           0  31 37 137 301 394 418 514 581 671 729 934 1006...\n",
            "2           0  169 394 435 603 866 1418 1626 1744 1799 2179 2...\n",
            "3           0  72 181 231 275 310 355 369 379 400 587 642 879...\n",
            "4           0  37 379 453 503 547 611 684 716 794 866 1108 13...\n",
            "..        ...                                                ...\n",
            "795         1  39 120 345 400 412 558 729 1153 1176 1220 1287...\n",
            "796         0  43 51 280 356 378 543 557 640 666 701 703 717 ...\n",
            "797         0  63 232 360 405 433 447 474 751 1069 1168 1272 ...\n",
            "798         0  83 159 290 462 505 509 531 547 737 969 1050 11...\n",
            "799         0  91 432 433 509 559 578 1082 1153 1220 1758 185...\n",
            "\n",
            "[800 rows x 2 columns]\n",
            "0      96 183 367 379 387 1041 1117 1176 1327 1546 18...\n",
            "1      31 37 137 301 394 418 514 581 671 729 934 1006...\n",
            "2      169 394 435 603 866 1418 1626 1744 1799 2179 2...\n",
            "3      72 181 231 275 310 355 369 379 400 587 642 879...\n",
            "4      37 379 453 503 547 611 684 716 794 866 1108 13...\n",
            "                             ...                        \n",
            "795    39 120 345 400 412 558 729 1153 1176 1220 1287...\n",
            "796    43 51 280 356 378 543 557 640 666 701 703 717 ...\n",
            "797    63 232 360 405 433 447 474 751 1069 1168 1272 ...\n",
            "798    83 159 290 462 505 509 531 547 737 969 1050 11...\n",
            "799    91 432 433 509 559 578 1082 1153 1220 1758 185...\n",
            "Name: Features, Length: 800, dtype: object\n",
            "0      0\n",
            "1      0\n",
            "2      0\n",
            "3      0\n",
            "4      0\n",
            "      ..\n",
            "795    1\n",
            "796    0\n",
            "797    0\n",
            "798    0\n",
            "799    0\n",
            "Name: Activity, Length: 800, dtype: int64\n"
          ]
        }
      ],
      "source": [
        "# checking the pre-processing and analysing the dataset\n",
        "print(train_data)\n",
        "print(features)\n",
        "print(labels)\n"
      ]
    },
    {
      "cell_type": "code",
      "execution_count": 327,
      "metadata": {
        "colab": {
          "base_uri": "https://localhost:8080/",
          "height": 112
        },
        "id": "w91XFlHv4b9K",
        "outputId": "61cfbfb1-c0a5-465e-f4df-c1dda043578b"
      },
      "outputs": [
        {
          "output_type": "execute_result",
          "data": {
            "text/plain": [
              "   Activity  Features\n",
              "0         0       722\n",
              "1         1        78"
            ],
            "text/html": [
              "\n",
              "  <div id=\"df-fd61a50d-e8ee-4fee-8f12-da847403d479\" class=\"colab-df-container\">\n",
              "    <div>\n",
              "<style scoped>\n",
              "    .dataframe tbody tr th:only-of-type {\n",
              "        vertical-align: middle;\n",
              "    }\n",
              "\n",
              "    .dataframe tbody tr th {\n",
              "        vertical-align: top;\n",
              "    }\n",
              "\n",
              "    .dataframe thead th {\n",
              "        text-align: right;\n",
              "    }\n",
              "</style>\n",
              "<table border=\"1\" class=\"dataframe\">\n",
              "  <thead>\n",
              "    <tr style=\"text-align: right;\">\n",
              "      <th></th>\n",
              "      <th>Activity</th>\n",
              "      <th>Features</th>\n",
              "    </tr>\n",
              "  </thead>\n",
              "  <tbody>\n",
              "    <tr>\n",
              "      <th>0</th>\n",
              "      <td>0</td>\n",
              "      <td>722</td>\n",
              "    </tr>\n",
              "    <tr>\n",
              "      <th>1</th>\n",
              "      <td>1</td>\n",
              "      <td>78</td>\n",
              "    </tr>\n",
              "  </tbody>\n",
              "</table>\n",
              "</div>\n",
              "    <div class=\"colab-df-buttons\">\n",
              "\n",
              "  <div class=\"colab-df-container\">\n",
              "    <button class=\"colab-df-convert\" onclick=\"convertToInteractive('df-fd61a50d-e8ee-4fee-8f12-da847403d479')\"\n",
              "            title=\"Convert this dataframe to an interactive table.\"\n",
              "            style=\"display:none;\">\n",
              "\n",
              "  <svg xmlns=\"http://www.w3.org/2000/svg\" height=\"24px\" viewBox=\"0 -960 960 960\">\n",
              "    <path d=\"M120-120v-720h720v720H120Zm60-500h600v-160H180v160Zm220 220h160v-160H400v160Zm0 220h160v-160H400v160ZM180-400h160v-160H180v160Zm440 0h160v-160H620v160ZM180-180h160v-160H180v160Zm440 0h160v-160H620v160Z\"/>\n",
              "  </svg>\n",
              "    </button>\n",
              "\n",
              "  <style>\n",
              "    .colab-df-container {\n",
              "      display:flex;\n",
              "      gap: 12px;\n",
              "    }\n",
              "\n",
              "    .colab-df-convert {\n",
              "      background-color: #E8F0FE;\n",
              "      border: none;\n",
              "      border-radius: 50%;\n",
              "      cursor: pointer;\n",
              "      display: none;\n",
              "      fill: #1967D2;\n",
              "      height: 32px;\n",
              "      padding: 0 0 0 0;\n",
              "      width: 32px;\n",
              "    }\n",
              "\n",
              "    .colab-df-convert:hover {\n",
              "      background-color: #E2EBFA;\n",
              "      box-shadow: 0px 1px 2px rgba(60, 64, 67, 0.3), 0px 1px 3px 1px rgba(60, 64, 67, 0.15);\n",
              "      fill: #174EA6;\n",
              "    }\n",
              "\n",
              "    .colab-df-buttons div {\n",
              "      margin-bottom: 4px;\n",
              "    }\n",
              "\n",
              "    [theme=dark] .colab-df-convert {\n",
              "      background-color: #3B4455;\n",
              "      fill: #D2E3FC;\n",
              "    }\n",
              "\n",
              "    [theme=dark] .colab-df-convert:hover {\n",
              "      background-color: #434B5C;\n",
              "      box-shadow: 0px 1px 3px 1px rgba(0, 0, 0, 0.15);\n",
              "      filter: drop-shadow(0px 1px 2px rgba(0, 0, 0, 0.3));\n",
              "      fill: #FFFFFF;\n",
              "    }\n",
              "  </style>\n",
              "\n",
              "    <script>\n",
              "      const buttonEl =\n",
              "        document.querySelector('#df-fd61a50d-e8ee-4fee-8f12-da847403d479 button.colab-df-convert');\n",
              "      buttonEl.style.display =\n",
              "        google.colab.kernel.accessAllowed ? 'block' : 'none';\n",
              "\n",
              "      async function convertToInteractive(key) {\n",
              "        const element = document.querySelector('#df-fd61a50d-e8ee-4fee-8f12-da847403d479');\n",
              "        const dataTable =\n",
              "          await google.colab.kernel.invokeFunction('convertToInteractive',\n",
              "                                                    [key], {});\n",
              "        if (!dataTable) return;\n",
              "\n",
              "        const docLinkHtml = 'Like what you see? Visit the ' +\n",
              "          '<a target=\"_blank\" href=https://colab.research.google.com/notebooks/data_table.ipynb>data table notebook</a>'\n",
              "          + ' to learn more about interactive tables.';\n",
              "        element.innerHTML = '';\n",
              "        dataTable['output_type'] = 'display_data';\n",
              "        await google.colab.output.renderOutput(dataTable, element);\n",
              "        const docLink = document.createElement('div');\n",
              "        docLink.innerHTML = docLinkHtml;\n",
              "        element.appendChild(docLink);\n",
              "      }\n",
              "    </script>\n",
              "  </div>\n",
              "\n",
              "\n",
              "<div id=\"df-d2438ac6-b54a-48f0-9dfd-b5d9b6a0b6e6\">\n",
              "  <button class=\"colab-df-quickchart\" onclick=\"quickchart('df-d2438ac6-b54a-48f0-9dfd-b5d9b6a0b6e6')\"\n",
              "            title=\"Suggest charts.\"\n",
              "            style=\"display:none;\">\n",
              "\n",
              "<svg xmlns=\"http://www.w3.org/2000/svg\" height=\"24px\"viewBox=\"0 0 24 24\"\n",
              "     width=\"24px\">\n",
              "    <g>\n",
              "        <path d=\"M19 3H5c-1.1 0-2 .9-2 2v14c0 1.1.9 2 2 2h14c1.1 0 2-.9 2-2V5c0-1.1-.9-2-2-2zM9 17H7v-7h2v7zm4 0h-2V7h2v10zm4 0h-2v-4h2v4z\"/>\n",
              "    </g>\n",
              "</svg>\n",
              "  </button>\n",
              "\n",
              "<style>\n",
              "  .colab-df-quickchart {\n",
              "      --bg-color: #E8F0FE;\n",
              "      --fill-color: #1967D2;\n",
              "      --hover-bg-color: #E2EBFA;\n",
              "      --hover-fill-color: #174EA6;\n",
              "      --disabled-fill-color: #AAA;\n",
              "      --disabled-bg-color: #DDD;\n",
              "  }\n",
              "\n",
              "  [theme=dark] .colab-df-quickchart {\n",
              "      --bg-color: #3B4455;\n",
              "      --fill-color: #D2E3FC;\n",
              "      --hover-bg-color: #434B5C;\n",
              "      --hover-fill-color: #FFFFFF;\n",
              "      --disabled-bg-color: #3B4455;\n",
              "      --disabled-fill-color: #666;\n",
              "  }\n",
              "\n",
              "  .colab-df-quickchart {\n",
              "    background-color: var(--bg-color);\n",
              "    border: none;\n",
              "    border-radius: 50%;\n",
              "    cursor: pointer;\n",
              "    display: none;\n",
              "    fill: var(--fill-color);\n",
              "    height: 32px;\n",
              "    padding: 0;\n",
              "    width: 32px;\n",
              "  }\n",
              "\n",
              "  .colab-df-quickchart:hover {\n",
              "    background-color: var(--hover-bg-color);\n",
              "    box-shadow: 0 1px 2px rgba(60, 64, 67, 0.3), 0 1px 3px 1px rgba(60, 64, 67, 0.15);\n",
              "    fill: var(--button-hover-fill-color);\n",
              "  }\n",
              "\n",
              "  .colab-df-quickchart-complete:disabled,\n",
              "  .colab-df-quickchart-complete:disabled:hover {\n",
              "    background-color: var(--disabled-bg-color);\n",
              "    fill: var(--disabled-fill-color);\n",
              "    box-shadow: none;\n",
              "  }\n",
              "\n",
              "  .colab-df-spinner {\n",
              "    border: 2px solid var(--fill-color);\n",
              "    border-color: transparent;\n",
              "    border-bottom-color: var(--fill-color);\n",
              "    animation:\n",
              "      spin 1s steps(1) infinite;\n",
              "  }\n",
              "\n",
              "  @keyframes spin {\n",
              "    0% {\n",
              "      border-color: transparent;\n",
              "      border-bottom-color: var(--fill-color);\n",
              "      border-left-color: var(--fill-color);\n",
              "    }\n",
              "    20% {\n",
              "      border-color: transparent;\n",
              "      border-left-color: var(--fill-color);\n",
              "      border-top-color: var(--fill-color);\n",
              "    }\n",
              "    30% {\n",
              "      border-color: transparent;\n",
              "      border-left-color: var(--fill-color);\n",
              "      border-top-color: var(--fill-color);\n",
              "      border-right-color: var(--fill-color);\n",
              "    }\n",
              "    40% {\n",
              "      border-color: transparent;\n",
              "      border-right-color: var(--fill-color);\n",
              "      border-top-color: var(--fill-color);\n",
              "    }\n",
              "    60% {\n",
              "      border-color: transparent;\n",
              "      border-right-color: var(--fill-color);\n",
              "    }\n",
              "    80% {\n",
              "      border-color: transparent;\n",
              "      border-right-color: var(--fill-color);\n",
              "      border-bottom-color: var(--fill-color);\n",
              "    }\n",
              "    90% {\n",
              "      border-color: transparent;\n",
              "      border-bottom-color: var(--fill-color);\n",
              "    }\n",
              "  }\n",
              "</style>\n",
              "\n",
              "  <script>\n",
              "    async function quickchart(key) {\n",
              "      const quickchartButtonEl =\n",
              "        document.querySelector('#' + key + ' button');\n",
              "      quickchartButtonEl.disabled = true;  // To prevent multiple clicks.\n",
              "      quickchartButtonEl.classList.add('colab-df-spinner');\n",
              "      try {\n",
              "        const charts = await google.colab.kernel.invokeFunction(\n",
              "            'suggestCharts', [key], {});\n",
              "      } catch (error) {\n",
              "        console.error('Error during call to suggestCharts:', error);\n",
              "      }\n",
              "      quickchartButtonEl.classList.remove('colab-df-spinner');\n",
              "      quickchartButtonEl.classList.add('colab-df-quickchart-complete');\n",
              "    }\n",
              "    (() => {\n",
              "      let quickchartButtonEl =\n",
              "        document.querySelector('#df-d2438ac6-b54a-48f0-9dfd-b5d9b6a0b6e6 button');\n",
              "      quickchartButtonEl.style.display =\n",
              "        google.colab.kernel.accessAllowed ? 'block' : 'none';\n",
              "    })();\n",
              "  </script>\n",
              "</div>\n",
              "    </div>\n",
              "  </div>\n"
            ]
          },
          "metadata": {},
          "execution_count": 327
        }
      ],
      "source": [
        "target_count= train_data.Activity.value_counts()\n",
        "pd.DataFrame({'Activity': target_count.index, 'Features': target_count.values})\n"
      ]
    },
    {
      "cell_type": "code",
      "execution_count": null,
      "metadata": {
        "colab": {
          "base_uri": "https://localhost:8080/"
        },
        "outputId": "ee1d24db-4d19-4a15-fb5d-2f10807e8787",
        "id": "kQX0HOC0ye5j"
      },
      "outputs": [
        {
          "output_type": "stream",
          "name": "stdout",
          "text": [
            "800\n",
            "Missing values Activity    0\n",
            "Features    0\n",
            "dtype: int64\n"
          ]
        }
      ],
      "source": [
        "# checking missing values\n",
        "print (len(features))\n",
        "missing_values = train_data.isnull().sum()\n",
        "print(\"Missing values\",missing_values)"
      ]
    },
    {
      "cell_type": "code",
      "execution_count": 296,
      "metadata": {
        "id": "eLsMk6fb0EN0"
      },
      "outputs": [],
      "source": [
        "# count_vectorizer = CountVectorizer(binary=True, tokenizer=lambda x:x.split())\n",
        "# binary_features = count_vectorizer.fit_transform(train_data['Features']).toarray()\n"
      ]
    },
    {
      "cell_type": "code",
      "execution_count": 49,
      "metadata": {
        "colab": {
          "base_uri": "https://localhost:8080/"
        },
        "id": "vKJmsWqaJE9b",
        "outputId": "67fa5000-64d4-4a3b-fc02-0bdfa24556bf"
      },
      "outputs": [
        {
          "output_type": "stream",
          "name": "stdout",
          "text": [
            "[    0     2     3 ... 84484 84485 84487]\n"
          ]
        }
      ],
      "source": [
        "# feature selection using chi-2 and SelectKBest\n",
        "def select_features_chi2(train_features, train_labels, k):\n",
        "    chi2_selector = SelectKBest(score_func=chi2, k=k)\n",
        "    chi2_selector.fit(train_features, train_labels)\n",
        "    selected_features = chi2_selector.get_support(indices=True)\n",
        "    return selected_features\n",
        "\n",
        "# retaining 90% of the features from the training set\n",
        "fraction_to_keep = 0.90\n",
        "total_features = train_features.shape[1]\n",
        "num_features_to_keep = int(total_features * fraction_to_keep)\n",
        "\n",
        "\n",
        "selected_feature_indices = select_features_chi2(train_features, train_labels, k=num_features_to_keep)\n",
        "# selected_feature_names = count_vectorizer.get_feature_names_out(input_features=selected_feature_indices)\n",
        "# print(selected_feature_names)\n",
        "print(selected_feature_indices)"
      ]
    },
    {
      "cell_type": "code",
      "execution_count": 50,
      "metadata": {
        "colab": {
          "base_uri": "https://localhost:8080/"
        },
        "id": "qgX6e7D9ffeO",
        "outputId": "811f03df-1f0a-4822-b528-fa8fea4b3c6c"
      },
      "outputs": [
        {
          "output_type": "stream",
          "name": "stdout",
          "text": [
            "Original feature number: 84488\n",
            "Reduced feature number: 76039\n"
          ]
        }
      ],
      "source": [
        "print('Original feature number:', train_features.shape[1])\n",
        "print('Reduced feature number:', train_features[:, selected_feature_indices].shape[1])"
      ]
    },
    {
      "cell_type": "code",
      "source": [
        "# Extract the selected features from the binary features matrix\n",
        "selected_train_features = train_features[:, selected_feature_indices]\n",
        "selected_test_features = test_features[:, selected_feature_indices]"
      ],
      "metadata": {
        "id": "4SQ2-ZOmQieM"
      },
      "execution_count": 51,
      "outputs": []
    },
    {
      "cell_type": "code",
      "source": [
        "# checking the dimensions of the reduced features and labels are compatible\n",
        "print(\"Shape of selected_binary_features:\", selected_train_features.shape)\n",
        "print(\"Shape of labels:\", train_labels.shape)\n",
        "print(selected_test_features.shape)"
      ],
      "metadata": {
        "colab": {
          "base_uri": "https://localhost:8080/"
        },
        "id": "4CkLTv7LStdQ",
        "outputId": "ecb5c304-d851-430a-ec46-290da45497ad"
      },
      "execution_count": 52,
      "outputs": [
        {
          "output_type": "stream",
          "name": "stdout",
          "text": [
            "Shape of selected_binary_features: (800, 76039)\n",
            "Shape of labels: (800,)\n",
            "(350, 76039)\n"
          ]
        }
      ]
    },
    {
      "cell_type": "code",
      "source": [
        "# naive Bayes Classification\n",
        "from sklearn.naive_bayes import BernoulliNB\n",
        "naive_bayes = BernoulliNB()\n",
        "X_train, X_valid, y_train, y_valid = train_test_split(train_features, train_labels, test_size=0.2, random_state=42,stratify=train_labels)\n",
        "# Train the classifier on the training data\n",
        "naive_bayes.fit(train_features, train_labels)\n",
        "pred_bayes = naive_bayes.predict(X_valid)\n",
        "f1_train_naive =f1_score(y_valid,pred_bayes)\n",
        "print(\"F1-score for Naive bayes:\", f1_train_naive)"
      ],
      "metadata": {
        "colab": {
          "base_uri": "https://localhost:8080/"
        },
        "id": "d9DQ_gx_1DVf",
        "outputId": "a4e0e19d-3565-477b-9555-c106bcb1e5a3"
      },
      "execution_count": 12,
      "outputs": [
        {
          "output_type": "stream",
          "name": "stdout",
          "text": [
            "F1-score for Naive bayes: 0.4166666666666667\n"
          ]
        }
      ]
    },
    {
      "cell_type": "code",
      "source": [
        "\n",
        "# Perform oversampling\n",
        "from imblearn.over_sampling import RandomOverSampler\n",
        "ros = RandomOverSampler(random_state=42)\n",
        "X_over_sample, y_over_sample = ros.fit_resample(selected_train_features, train_labels)\n",
        "\n",
        "# Perform under-sampling\n",
        "# from imblearn.under_sampling import RandomUnderSampler\n",
        "# rus = RandomUnderSampler(random_state=0)\n",
        "# X_under_sample, y_under_sample = rus.fit_resample(X_train, y_train)\n",
        "\n",
        "# Split the oversampled data into training and validation sets\n",
        "X_train, X_valid, y_train, y_valid = train_test_split(X_over_sample, y_over_sample, test_size=0.2, random_state=42)\n",
        "\n",
        "\n",
        "# Cost-complexity pruning path\n",
        "dt_clf = DecisionTreeClassifier(criterion='gini')\n",
        "path = dt_clf.cost_complexity_pruning_path(X_train, y_train)\n",
        "alphas, impurity = path.ccp_alphas, path.impurities\n",
        "alphas = alphas[:-1]\n",
        "\n",
        "# Initialize variables to keep track of the best F1 score and best classifier\n",
        "best_f1_score = 0\n",
        "best_classifier = None\n",
        "\n",
        "# Iterate through the trained decision trees and calculate F1 scores\n",
        "clfs = []\n",
        "for alpha in alphas:\n",
        "    d_tree = DecisionTreeClassifier(random_state=42, ccp_alpha=alpha)\n",
        "    d_tree.fit(X_train, y_train)\n",
        "    clfs.append(d_tree)\n",
        "\n",
        "    # Calculate F1 score on the validation set\n",
        "    y_pred = d_tree.predict(X_valid)\n",
        "    f1 = f1_score(y_valid, y_pred)\n",
        "\n",
        "    # Check if this classifier has a better F1 score than the current best\n",
        "    if f1 > best_f1_score:\n",
        "        best_f1_score = f1\n",
        "        best_classifier = d_tree\n",
        "\n",
        "print(\"Best F1-score after cost-complexity pruning and oversampling:\", best_f1_score)\n"
      ],
      "metadata": {
        "colab": {
          "base_uri": "https://localhost:8080/"
        },
        "id": "ZDiY6b3SYr_0",
        "outputId": "e44b1503-a87e-4c07-9a5a-54f4bb6b3ff5"
      },
      "execution_count": 43,
      "outputs": [
        {
          "output_type": "stream",
          "name": "stdout",
          "text": [
            "Best F1-score after cost-complexity pruning and oversampling: 0.9897610921501706\n"
          ]
        }
      ]
    },
    {
      "cell_type": "code",
      "source": [
        "best_classifier.fit(X_over_sample, y_over_sample)\n",
        "predictions = best_classifier.predict(selected_test_features)\n"
      ],
      "metadata": {
        "id": "9bitk8SXVG87"
      },
      "execution_count": 46,
      "outputs": []
    },
    {
      "cell_type": "code",
      "execution_count": 63,
      "metadata": {
        "colab": {
          "base_uri": "https://localhost:8080/"
        },
        "outputId": "bfb9498b-314f-409d-ec50-01a54e9eba8b",
        "id": "JRXFIYQf8-5g"
      },
      "outputs": [
        {
          "output_type": "stream",
          "name": "stdout",
          "text": [
            "F1-score for Decision Tree (over sampling): 0.7096774193548386\n"
          ]
        }
      ],
      "source": [
        "X_train, X_valid, y_train, y_valid = train_test_split(selected_train_features, train_labels, shuffle=True, test_size=0.2, random_state=42, stratify=train_labels)\n",
        "ros = RandomOverSampler(random_state=42)\n",
        "Xresam,yresam=ros.fit_resample(selected_train_features,train_labels)\n",
        "\n",
        "# initializing the decision tree\n",
        "decision_tree = DecisionTreeClassifier(criterion='gini',random_state=42, ccp_alpha=0.05)\n",
        "\n",
        "decision_tree.fit(Xresam,yresam)\n",
        "pred_tree = decision_tree.predict(X_valid)\n",
        "f1_train =f1_score(y_valid,pred_tree)\n",
        "print(\"F1-score for Decision Tree (over sampling):\", f1_train)\n",
        "\n",
        "# predicting for test dataset\n",
        "prediction = decision_tree.predict(selected_test_features)"
      ]
    },
    {
      "cell_type": "code",
      "execution_count": 64,
      "metadata": {
        "id": "gtUnAVlGojot"
      },
      "outputs": [],
      "source": [
        "# Writing the test predictions to a file in the required format\n",
        "test_predictions_file = '/content/test_predictions.txt'\n",
        "with open(test_predictions_file, \"w\") as f:\n",
        "    for p in prediction:\n",
        "        f.write(f\"{p}\\n\")"
      ]
    },
    {
      "cell_type": "code",
      "execution_count": 247,
      "metadata": {
        "id": "xpuRCb7rRxon"
      },
      "outputs": [],
      "source": [
        "# # predicting for test dataset\n",
        "# count_vectorizer_test = CountVectorizer(binary=True, tokenizer=lambda x:x.split())\n",
        "# test_binary_features = count_vectorizer.transform(test_data['Features']).toarray()\n",
        "# prediction = best_classifier.predict(test_binary_features)"
      ]
    },
    {
      "cell_type": "code",
      "source": [
        "# Initialize lists to store node counts and depths\n",
        "node_counts = []\n",
        "depths = []\n",
        "\n",
        "for clf in clfs:\n",
        "    node_count = clf.tree_.node_count\n",
        "    tree_depth = clf.tree_.max_depth\n",
        "    node_counts.append(node_count)\n",
        "    depths.append(tree_depth)\n",
        "\n",
        "# Plot the node counts and depths against alpha values\n",
        "plt.figure(figsize=(10, 5))\n",
        "plt.plot(alphas, node_counts, marker='o', linestyle='-', color='b', label='Node Counts')\n",
        "plt.plot(alphas, depths, marker='o', linestyle='-', color='r', label='Depths')\n",
        "plt.xlabel('Alpha')\n",
        "plt.ylabel('Count/Depth')\n",
        "plt.title('Node Counts and Depths vs. Alpha')\n",
        "plt.legend()\n",
        "plt.show()"
      ],
      "metadata": {
        "colab": {
          "base_uri": "https://localhost:8080/",
          "height": 487
        },
        "id": "KKUDFwUXejCg",
        "outputId": "5d1cfe63-afed-4b61-b076-42ca386eecfc"
      },
      "execution_count": 43,
      "outputs": [
        {
          "output_type": "display_data",
          "data": {
            "text/plain": [
              "<Figure size 1000x500 with 1 Axes>"
            ],
            "image/png": "[encoded data removed]"
          },
          "metadata": {}
        }
      ]
    },
    {
      "cell_type": "code",
      "source": [
        "# Print the alpha values, node counts, and depths\n",
        "for alpha, node_count, tree_depth in zip(alphas, node_counts, depths):\n",
        "    print(f\"Alpha: {alpha}, Node Count: {node_count}, Depth: {tree_depth}\")"
      ],
      "metadata": {
        "colab": {
          "base_uri": "https://localhost:8080/"
        },
        "id": "LdlM4zA697HL",
        "outputId": "1f534412-dc92-457f-887b-3fd4416e82de"
      },
      "execution_count": 326,
      "outputs": [
        {
          "output_type": "stream",
          "name": "stdout",
          "text": [
            "Alpha: 0.0, Node Count: 49, Depth: 9\n",
            "Alpha: 0.0016079158936301797, Node Count: 45, Depth: 9\n",
            "Alpha: 0.0016848016848016864, Node Count: 43, Depth: 9\n",
            "Alpha: 0.0016922471467926009, Node Count: 39, Depth: 9\n",
            "Alpha: 0.0017265680056377842, Node Count: 35, Depth: 9\n",
            "Alpha: 0.00277056277056277, Node Count: 33, Depth: 9\n",
            "Alpha: 0.0034035219881250376, Node Count: 31, Depth: 9\n",
            "Alpha: 0.0034504944596687502, Node Count: 31, Depth: 9\n",
            "Alpha: 0.004155844155844155, Node Count: 29, Depth: 9\n",
            "Alpha: 0.004863221884498479, Node Count: 27, Depth: 9\n",
            "Alpha: 0.004961065948792412, Node Count: 25, Depth: 9\n",
            "Alpha: 0.0060638856093401545, Node Count: 23, Depth: 9\n",
            "Alpha: 0.010158730158730159, Node Count: 21, Depth: 9\n",
            "Alpha: 0.010782959773785496, Node Count: 19, Depth: 9\n",
            "Alpha: 0.01546503441240284, Node Count: 17, Depth: 8\n",
            "Alpha: 0.018741036603844276, Node Count: 15, Depth: 7\n",
            "Alpha: 0.022405896326292543, Node Count: 11, Depth: 5\n",
            "Alpha: 0.03159209555540078, Node Count: 9, Depth: 4\n",
            "Alpha: 0.03802657005163384, Node Count: 5, Depth: 2\n"
          ]
        }
      ]
    },
    {
      "cell_type": "code",
      "source": [
        "# Initialize lists to store F1 scores and alpha values\n",
        "f1_scores = []\n",
        "alpha_values = []\n",
        "\n",
        "# Iterate through the trained decision trees and calculate F1 scores\n",
        "for alpha, clf in zip(alphas, clfs):\n",
        "    y_pred = clf.predict(X_valid)\n",
        "    f1 = f1_score(y_valid, y_pred)\n",
        "    f1_scores.append(f1)\n",
        "    alpha_values.append(alpha)\n",
        "\n",
        "# Plot the F1 scores against alpha values\n",
        "plt.figure(figsize=(10, 6))\n",
        "plt.plot(alpha_values, f1_scores, marker='o', linestyle='-')\n",
        "plt.title('F1 Score vs. Alpha (Cost Complexity Pruning)')\n",
        "plt.xlabel('Alpha')\n",
        "plt.ylabel('F1 Score')\n",
        "plt.grid(True)\n",
        "plt.show()\n"
      ],
      "metadata": {
        "colab": {
          "base_uri": "https://localhost:8080/",
          "height": 564
        },
        "id": "a_SbX9QoZyns",
        "outputId": "d8c6c553-3505-4f0f-f57f-cacbc69d85ed"
      },
      "execution_count": 35,
      "outputs": [
        {
          "output_type": "display_data",
          "data": {
            "text/plain": [
              "<Figure size 1000x600 with 1 Axes>"
            ],
            "image/png": "[encoded data removed]"
          },
          "metadata": {}
        }
      ]
    }
  ],
  "metadata": {
    "colab": {
      "provenance": []
    },
    "kernelspec": {
      "display_name": "Python 3",
      "name": "python3"
    },
    "language_info": {
      "name": "python"
    }
  },
  "nbformat": 4,
  "nbformat_minor": 0
}